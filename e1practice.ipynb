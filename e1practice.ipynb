{
 "cells": [
  {
   "cell_type": "code",
   "execution_count": 1,
   "metadata": {
    "colab": {
     "base_uri": "https://localhost:8080/"
    },
    "id": "ylkMaff3yTL6",
    "outputId": "82be93ef-514f-4f94-cc74-a54dace69e5f"
   },
   "outputs": [
    {
     "name": "stdout",
     "output_type": "stream",
     "text": [
      "Collecting gurobipy\n",
      "  Downloading gurobipy-9.5.1-cp38-cp38-win_amd64.whl (8.9 MB)\n",
      "Installing collected packages: gurobipy\n",
      "Successfully installed gurobipy-9.5.1\n"
     ]
    }
   ],
   "source": [
    "!pip install gurobipy"
   ]
  },
  {
   "cell_type": "code",
   "execution_count": 2,
   "metadata": {
    "id": "31GxjnaEyNfr"
   },
   "outputs": [],
   "source": [
    "import numpy as np\n",
    "import pandas as pd\n",
    "import gurobipy as gp\n",
    "import tensorflow as tf"
   ]
  },
  {
   "cell_type": "code",
   "execution_count": 4,
   "metadata": {
    "colab": {
     "base_uri": "https://localhost:8080/"
    },
    "id": "fbxIoCsGyNfu",
    "outputId": "6fdaa196-7d6e-4233-8df0-752dba472058"
   },
   "outputs": [
    {
     "data": {
      "text/plain": [
       "6.91633"
      ]
     },
     "execution_count": 4,
     "metadata": {},
     "output_type": "execute_result"
    }
   ],
   "source": [
    "# problem 1\n",
    "nsim=100000\n",
    "sumvec = np.zeros(nsim)\n",
    "for s in range(nsim):\n",
    "    sumnow = 0\n",
    "    for roll in range(5):\n",
    "        side = np.random.choice([1,2,3,4],p=[0.1,0.2,0.3,0.4])\n",
    "        sumnow += side\n",
    "        if (side == 1) | (side == 3):\n",
    "            break\n",
    "    sumvec[s] = sumnow\n",
    "np.mean(sumvec)"
   ]
  },
  {
   "cell_type": "code",
   "execution_count": null,
   "metadata": {
    "id": "lg1QwZ0TyNfw"
   },
   "outputs": [],
   "source": []
  },
  {
   "cell_type": "code",
   "execution_count": null,
   "metadata": {
    "colab": {
     "base_uri": "https://localhost:8080/"
    },
    "id": "VDMKXTxLyNfx",
    "outputId": "6605c022-d6a3-45e7-ee8c-7bfe3755d8a3"
   },
   "outputs": [
    {
     "name": "stdout",
     "output_type": "stream",
     "text": [
      "Downloading data from https://storage.googleapis.com/tensorflow/tf-keras-datasets/train-labels-idx1-ubyte.gz\n",
      "32768/29515 [=================================] - 0s 0us/step\n",
      "40960/29515 [=========================================] - 0s 0us/step\n",
      "Downloading data from https://storage.googleapis.com/tensorflow/tf-keras-datasets/train-images-idx3-ubyte.gz\n",
      "26427392/26421880 [==============================] - 0s 0us/step\n",
      "26435584/26421880 [==============================] - 0s 0us/step\n",
      "Downloading data from https://storage.googleapis.com/tensorflow/tf-keras-datasets/t10k-labels-idx1-ubyte.gz\n",
      "16384/5148 [===============================================================================================] - 0s 0us/step\n",
      "Downloading data from https://storage.googleapis.com/tensorflow/tf-keras-datasets/t10k-images-idx3-ubyte.gz\n",
      "4423680/4422102 [==============================] - 0s 0us/step\n",
      "4431872/4422102 [==============================] - 0s 0us/step\n"
     ]
    }
   ],
   "source": [
    "# problem 2\n",
    "\n",
    "mnist = tf.keras.datasets.fashion_mnist\n",
    "\n",
    "(x_train, y_train),(x_test, y_test) = mnist.load_data()\n",
    "x_train, x_test = x_train / 255.0, x_test / 255.0\n",
    "\n",
    "ndata_train = x_train.shape[0]\n",
    "ndata_test = x_test.shape[0]\n",
    "\n",
    "x_train = x_train.reshape((ndata_train,28,28,1))\n",
    "x_test = x_test.reshape((ndata_test,28,28,1))\n",
    "\n",
    "\n",
    "xshape = x_train.shape[1:4]"
   ]
  },
  {
   "cell_type": "code",
   "execution_count": null,
   "metadata": {
    "colab": {
     "base_uri": "https://localhost:8080/"
    },
    "id": "NXLUd7VByNfz",
    "outputId": "f4aa0b33-ee9f-4828-d04a-0cd9dd9e1b15"
   },
   "outputs": [
    {
     "data": {
      "text/plain": [
       "(60000, 28, 28, 1)"
      ]
     },
     "execution_count": 5,
     "metadata": {},
     "output_type": "execute_result"
    }
   ],
   "source": [
    "x_train.shape"
   ]
  },
  {
   "cell_type": "code",
   "execution_count": null,
   "metadata": {
    "id": "mC-Uth1NyNf2"
   },
   "outputs": [],
   "source": [
    "NNmodel = tf.keras.models.Sequential([\n",
    "        tf.keras.layers.Conv2D(filters=10,kernel_size=(5,5),input_shape=xshape),\n",
    "        tf.keras.layers.Conv2D(filters=15,kernel_size=(4,4),activation=tf.nn.relu),\n",
    "        tf.keras.layers.MaxPooling2D(pool_size = (3,3),strides=3),\n",
    "        tf.keras.layers.Flatten(),\n",
    "        tf.keras.layers.Dense(64,activation=tf.nn.relu),\n",
    "        tf.keras.layers.Dropout(0.25),\n",
    "        tf.keras.layers.Dense(10,activation=tf.nn.softmax)\n",
    "        ])"
   ]
  },
  {
   "cell_type": "code",
   "execution_count": null,
   "metadata": {
    "colab": {
     "base_uri": "https://localhost:8080/"
    },
    "id": "uu7m74oVyNf3",
    "outputId": "dfd9c2ab-6271-483f-f7e3-4ac61fce6507"
   },
   "outputs": [
    {
     "name": "stdout",
     "output_type": "stream",
     "text": [
      "Model: \"sequential\"\n",
      "_________________________________________________________________\n",
      " Layer (type)                Output Shape              Param #   \n",
      "=================================================================\n",
      " conv2d (Conv2D)             (None, 24, 24, 10)        260       \n",
      "                                                                 \n",
      " conv2d_1 (Conv2D)           (None, 21, 21, 15)        2415      \n",
      "                                                                 \n",
      " max_pooling2d (MaxPooling2D  (None, 7, 7, 15)         0         \n",
      " )                                                               \n",
      "                                                                 \n",
      " flatten (Flatten)           (None, 735)               0         \n",
      "                                                                 \n",
      " dense (Dense)               (None, 64)                47104     \n",
      "                                                                 \n",
      " dropout (Dropout)           (None, 64)                0         \n",
      "                                                                 \n",
      " dense_1 (Dense)             (None, 10)                650       \n",
      "                                                                 \n",
      "=================================================================\n",
      "Total params: 50,429\n",
      "Trainable params: 50,429\n",
      "Non-trainable params: 0\n",
      "_________________________________________________________________\n"
     ]
    }
   ],
   "source": [
    "NNmodel.compile(optimizer='rmsprop',\n",
    "              loss='sparse_categorical_crossentropy',\n",
    "              metrics=['accuracy'])\n",
    "\n",
    "NNmodel.summary()"
   ]
  },
  {
   "cell_type": "code",
   "execution_count": null,
   "metadata": {
    "colab": {
     "base_uri": "https://localhost:8080/"
    },
    "id": "eyrTCDrIyNf5",
    "outputId": "c3b36e75-b608-447d-ec83-4e39cf299836"
   },
   "outputs": [
    {
     "name": "stdout",
     "output_type": "stream",
     "text": [
      "Epoch 1/10\n",
      "540/540 [==============================] - 43s 79ms/step - loss: 0.5034 - accuracy: 0.8205 - val_loss: 0.3744 - val_accuracy: 0.8628\n",
      "Epoch 2/10\n",
      "540/540 [==============================] - 43s 79ms/step - loss: 0.3890 - accuracy: 0.8605 - val_loss: 0.3379 - val_accuracy: 0.8740\n",
      "Epoch 3/10\n",
      "540/540 [==============================] - 42s 78ms/step - loss: 0.3449 - accuracy: 0.8767 - val_loss: 0.3113 - val_accuracy: 0.8845\n",
      "Epoch 4/10\n",
      "540/540 [==============================] - 43s 79ms/step - loss: 0.3182 - accuracy: 0.8858 - val_loss: 0.2979 - val_accuracy: 0.8903\n",
      "Epoch 5/10\n",
      "540/540 [==============================] - 42s 78ms/step - loss: 0.3020 - accuracy: 0.8911 - val_loss: 0.2857 - val_accuracy: 0.8967\n",
      "Epoch 6/10\n",
      "540/540 [==============================] - 42s 78ms/step - loss: 0.2872 - accuracy: 0.8961 - val_loss: 0.2710 - val_accuracy: 0.9002\n",
      "Epoch 7/10\n",
      "540/540 [==============================] - 42s 78ms/step - loss: 0.2756 - accuracy: 0.9011 - val_loss: 0.2678 - val_accuracy: 0.9025\n",
      "Epoch 8/10\n",
      "540/540 [==============================] - 42s 78ms/step - loss: 0.2655 - accuracy: 0.9043 - val_loss: 0.2688 - val_accuracy: 0.9035\n",
      "Epoch 9/10\n",
      "540/540 [==============================] - 42s 78ms/step - loss: 0.2595 - accuracy: 0.9075 - val_loss: 0.2700 - val_accuracy: 0.9023\n",
      "Epoch 10/10\n",
      "540/540 [==============================] - 42s 78ms/step - loss: 0.2514 - accuracy: 0.9088 - val_loss: 0.2716 - val_accuracy: 0.9030\n"
     ]
    },
    {
     "data": {
      "text/plain": [
       "<keras.callbacks.History at 0x7f95467be790>"
      ]
     },
     "execution_count": 18,
     "metadata": {},
     "output_type": "execute_result"
    }
   ],
   "source": [
    "NNmodel.fit(x_train,y_train,epochs=10,validation_split=0.1,batch_size=100)"
   ]
  },
  {
   "cell_type": "code",
   "execution_count": null,
   "metadata": {
    "colab": {
     "base_uri": "https://localhost:8080/"
    },
    "id": "Wkm7GtdoyNf6",
    "outputId": "cfda8051-2456-44dd-bdf1-a8f746078a7c"
   },
   "outputs": [
    {
     "name": "stdout",
     "output_type": "stream",
     "text": [
      "0.8991\n"
     ]
    }
   ],
   "source": [
    "pred_probs = NNmodel.predict(x_test)\n",
    "pred = np.argmax(pred_probs, axis=1)\n",
    "print(np.mean(pred==y_test))"
   ]
  },
  {
   "cell_type": "code",
   "execution_count": null,
   "metadata": {
    "id": "bm0Yh1e4yNf8"
   },
   "outputs": [],
   "source": []
  },
  {
   "cell_type": "code",
   "execution_count": null,
   "metadata": {
    "colab": {
     "base_uri": "https://localhost:8080/"
    },
    "id": "HbPH0PFWyNf8",
    "outputId": "5d3a820b-f637-4cb2-cfb7-42e10a93f061"
   },
   "outputs": [
    {
     "name": "stdout",
     "output_type": "stream",
     "text": [
      "Mounted at /content/drive\n"
     ]
    }
   ],
   "source": [
    "from google.colab import drive\n",
    "drive.mount('/content/drive')"
   ]
  },
  {
   "cell_type": "code",
   "execution_count": 4,
   "metadata": {
    "id": "bpKR3Ey2yNf9"
   },
   "outputs": [],
   "source": [
    "# problem 3\n",
    "data = pd.read_csv('TimeOfTravel-1.csv')\n",
    "obj = np.ones(52)/51\n",
    "obj[0] = 0\n",
    "\n",
    "A = np.zeros((102,52))\n",
    "rhs = np.zeros(102)\n",
    "direction = np.array(['>']*102)\n",
    "lb = np.array([-np.inf]*52)\n",
    "lb[0] = 0\n",
    "\n",
    "for row in range(51):\n",
    "    A[2*row,[0,row+1]] = [1,1] # h_i >= T_i - d -> hi + d >= Ti\n",
    "    rhs[2*row] = data.travel_time[row]\n",
    "    A[2*row+1,[0,row+1]] = [-1,1] # h_i >= d - T_i -> hi - d >= -Ti\n",
    "    rhs[2*row+1] = -data.travel_time[row]\n",
    "\n"
   ]
  },
  {
   "cell_type": "code",
   "execution_count": null,
   "metadata": {},
   "outputs": [],
   "source": []
  },
  {
   "cell_type": "code",
   "execution_count": 5,
   "metadata": {
    "colab": {
     "base_uri": "https://localhost:8080/"
    },
    "id": "O9SxGevOyNf-",
    "outputId": "f5f34846-3865-42a2-84e2-ae5cce240aa7"
   },
   "outputs": [
    {
     "name": "stdout",
     "output_type": "stream",
     "text": [
      "Set parameter Username\n",
      "Academic license - for non-commercial use only - expires 2022-09-17\n"
     ]
    },
    {
     "data": {
      "text/plain": [
       "44.0"
      ]
     },
     "execution_count": 5,
     "metadata": {},
     "output_type": "execute_result"
    }
   ],
   "source": [
    "spMod = gp.Model()\n",
    "spMod_x = spMod.addMVar(len(obj),lb=lb) # tell the model how many variables there are\n",
    "# must define the variables before adding constraints because variables go into the constraints\n",
    "spMod_con = spMod.addMConstrs(A, spMod_x, direction, rhs) # NAME THE CONSTRAINTS!!! so we can get information about them later!\n",
    "spMod.setMObjective(None,obj,0,sense=gp.GRB.MINIMIZE) # add the objective to the model...we'll talk about the None and the 0\n",
    "\n",
    "spMod.Params.OutputFlag = 0 # tell gurobi to shut up!!\n",
    "spMod.optimize()\n",
    "\n",
    "spMod_x.x[0]"
   ]
  },
  {
   "cell_type": "code",
   "execution_count": 6,
   "metadata": {
    "colab": {
     "base_uri": "https://localhost:8080/"
    },
    "id": "0ayIvTMkyNf_",
    "outputId": "0c46eace-7cc8-489c-9b5d-366d924ea541"
   },
   "outputs": [
    {
     "data": {
      "text/plain": [
       "44.0"
      ]
     },
     "execution_count": 6,
     "metadata": {},
     "output_type": "execute_result"
    }
   ],
   "source": [
    "np.median(data.travel_time) # this is NOT a coincidence!"
   ]
  },
  {
   "cell_type": "code",
   "execution_count": null,
   "metadata": {
    "id": "7yHFGktjyNgB"
   },
   "outputs": [],
   "source": []
  },
  {
   "cell_type": "code",
   "execution_count": null,
   "metadata": {
    "id": "6Vb4bFgOyNgB"
   },
   "outputs": [],
   "source": [
    "# problem 4\n",
    "# epsilon greedy"
   ]
  }
 ],
 "metadata": {
  "colab": {
   "collapsed_sections": [],
   "name": "e1practice.ipynb",
   "provenance": []
  },
  "kernelspec": {
   "display_name": "Python 3",
   "language": "python",
   "name": "python3"
  },
  "language_info": {
   "codemirror_mode": {
    "name": "ipython",
    "version": 3
   },
   "file_extension": ".py",
   "mimetype": "text/x-python",
   "name": "python",
   "nbconvert_exporter": "python",
   "pygments_lexer": "ipython3",
   "version": "3.8.3"
  }
 },
 "nbformat": 4,
 "nbformat_minor": 1
}
